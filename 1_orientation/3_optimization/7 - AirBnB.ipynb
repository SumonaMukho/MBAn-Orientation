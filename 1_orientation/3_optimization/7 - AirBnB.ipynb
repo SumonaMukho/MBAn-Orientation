{
 "cells": [
  {
   "cell_type": "markdown",
   "metadata": {},
   "source": [
    "# AirBnB assignment problem\n",
    "\n",
    "You are planning a weekend vacation in Boston for a large group of students. You would like to stay in AirBnB's, since this is generally cheaper than staying at an hotel.\n",
    "Unfortunately, this is quite complicated to organize!\n",
    "\n",
    "* AirBnBs accommodate different numbers of guests, so it is difficult to divide everyone into groups\n",
    "* Since there are many of you, some people might try to book the same listings and be disappointed\n",
    "* All the AirBnBs have different features and prices\n",
    "\n",
    "Instead of everyone trying to organize their own groups and bookings, you have volunteered to formulate an optimization model to determine where each person should stay.\n",
    "You sent out an initial survey to your classmates to find out what preferences and constraints you need to consider:\n",
    "* Some students requested to be placed in a Male only/Female only lisitng, while some were happy to share with anyone\n",
    "* Some students requested specific amenities: Kitchen, Air-con etc.\n",
    "\n",
    "You also decided to restrict the listings that you would consider based on certain criteria\n",
    "* You all want to be near each other for group activities, so we will only consider listings in certain neighbourhoods near central Boston or Back Bay\n",
    "* We will only consider listings with high review scores"
   ]
  },
  {
   "cell_type": "markdown",
   "metadata": {},
   "source": [
    "Before you begin, check your current working directory. If this is not inside the folder \"3_optimization\", change it to this location using the `cd()` function.\n",
    "\n",
    "Note: for Windows paths, use \"\\\\\". For UNIX systems, use \"/\"."
   ]
  },
  {
   "cell_type": "code",
   "execution_count": null,
   "metadata": {},
   "outputs": [],
   "source": [
    "pwd()"
   ]
  },
  {
   "cell_type": "code",
   "execution_count": null,
   "metadata": {},
   "outputs": [],
   "source": [
    "# set the working directory to the 3_optimization folder\n",
    "#cd(\"C:\\\\Users\\\\Name\\\\Desktop\\\\mban_orientation\\\\1_orientation\\\\3_optimization\\\\\")\n",
    "#cd(\"/Users/Name/Desktop/mban_orientation/1_orientation/3_optimization/\")"
   ]
  },
  {
   "cell_type": "code",
   "execution_count": 3,
   "metadata": {},
   "outputs": [],
   "source": [
    "# load packages\n",
    "using JuMP, Gurobi, DataFrames, CSV"
   ]
  },
  {
   "cell_type": "markdown",
   "metadata": {},
   "source": [
    "## Data\n",
    "\n",
    "Yesterday we practiced filtering and manipulating the AirBnB data in R. Instead of starting from scratch in Julia, let's use our R skills to do some initial data processing.\n",
    "To do this, we'll need to do the following:\n",
    "* an R script that contains all the code we want to run: input_data.R\n",
    "* a way to tell Julia to run the R script\n",
    "* a way to read the output files from the R script into Julia (we'll save the output as a csv file in R, then read this file in Julia)\n",
    "\n",
    "How do we do the middle step? \n",
    "UNIX:\n",
    "* the ``run( [command] )`` function tells Julia to send a command to the terminal\n",
    "* the `Rscript [script] [arguments]` command tells your computer to open an R session and run a specific script\n",
    "\n",
    "Windows:\n",
    "* the ``run( [command] )`` function tells Julia to send a command to the terminal\n",
    "* the `Rscript.exe [script] [arguments]` command tells your computer to open an R session and run a specific script. You will need to figure out where the file \"Rscrip.exe\" is located on your computer and provide the path to this file.\n",
    "\n",
    "Note: if this doesn't work on your computer, open the R script in RStudio. Set the `date` variable in the script and run the code manually.\n"
   ]
  },
  {
   "cell_type": "code",
   "execution_count": 4,
   "metadata": {
    "scrolled": true
   },
   "outputs": [
    {
     "data": {
      "text/plain": [
       "\"2019-11-25\""
      ]
     },
     "execution_count": 4,
     "metadata": {},
     "output_type": "execute_result"
    }
   ],
   "source": [
    "# our R script takes one argument: the date that we will start our stay\n",
    "# set the date that we want to start our booking\n",
    "date = \"2019-11-25\"\n",
    "\n",
    "# this line will run the R script \n",
    "#run(`Rscript input_data.R $date`)\n",
    "#run(`\"C:\\Program Files\\R\\R-3.6.1\\bin\\Rscript.exe\" input_data.R $date`)"
   ]
  },
  {
   "cell_type": "code",
   "execution_count": 5,
   "metadata": {},
   "outputs": [
    {
     "name": "stdout",
     "output_type": "stream",
     "text": [
      "There are 61 listings available on 2019-11-25\n"
     ]
    },
    {
     "data": {
      "text/html": [
       "<table class=\"data-frame\"><thead><tr><th></th><th>id</th><th>listing_url</th><th>scrape_id</th><th>last_scraped</th><th>name</th></tr><tr><th></th><th>Int64</th><th>String</th><th>Int64</th><th>Dates…</th><th>String</th></tr></thead><tbody><p>5 rows × 109 columns (omitted printing of 104 columns)</p><tr><th>1</th><td>820073</td><td>https://www.airbnb.com/rooms/820073</td><td>20190714024644</td><td>2019-07-14</td><td>Modern Loft, 1700 SqFt. Location!</td></tr><tr><th>2</th><td>1868124</td><td>https://www.airbnb.com/rooms/1868124</td><td>20190714024644</td><td>2019-07-14</td><td>Lux Downtown Boston 1 Bedroom Apt w/pool</td></tr><tr><th>3</th><td>1868513</td><td>https://www.airbnb.com/rooms/1868513</td><td>20190714024644</td><td>2019-07-14</td><td>Lux 1 Bedroom in Post-War Back Bay building w/WiFi</td></tr><tr><th>4</th><td>1966195</td><td>https://www.airbnb.com/rooms/1966195</td><td>20190714024644</td><td>2019-07-14</td><td>Lux Downtown Boston 2 Bedroom Apt w/pool</td></tr><tr><th>5</th><td>2187766</td><td>https://www.airbnb.com/rooms/2187766</td><td>20190714024644</td><td>2019-07-14</td><td>Lux Downtown Boston 2 Bedroom Apt w/pool</td></tr></tbody></table>"
      ],
      "text/latex": [
       "\\begin{tabular}{r|cccccc}\n",
       "\t& id & listing\\_url & scrape\\_id & last\\_scraped & name & \\\\\n",
       "\t\\hline\n",
       "\t& Int64 & String & Int64 & Dates… & String & \\\\\n",
       "\t\\hline\n",
       "\t1 & 820073 & https://www.airbnb.com/rooms/820073 & 20190714024644 & 2019-07-14 & Modern Loft, 1700 SqFt. Location! & $\\dots$ \\\\\n",
       "\t2 & 1868124 & https://www.airbnb.com/rooms/1868124 & 20190714024644 & 2019-07-14 & Lux Downtown Boston 1 Bedroom Apt w/pool & $\\dots$ \\\\\n",
       "\t3 & 1868513 & https://www.airbnb.com/rooms/1868513 & 20190714024644 & 2019-07-14 & Lux 1 Bedroom in Post-War Back Bay building w/WiFi & $\\dots$ \\\\\n",
       "\t4 & 1966195 & https://www.airbnb.com/rooms/1966195 & 20190714024644 & 2019-07-14 & Lux Downtown Boston 2 Bedroom Apt w/pool & $\\dots$ \\\\\n",
       "\t5 & 2187766 & https://www.airbnb.com/rooms/2187766 & 20190714024644 & 2019-07-14 & Lux Downtown Boston 2 Bedroom Apt w/pool & $\\dots$ \\\\\n",
       "\\end{tabular}\n"
      ],
      "text/plain": [
       "5×109 DataFrame. Omitted printing of 106 columns\n",
       "│ Row │ id      │ listing_url                          │ scrape_id      │\n",
       "│     │ \u001b[90mInt64\u001b[39m   │ \u001b[90mString\u001b[39m                               │ \u001b[90mInt64\u001b[39m          │\n",
       "├─────┼─────────┼──────────────────────────────────────┼────────────────┤\n",
       "│ 1   │ 820073  │ https://www.airbnb.com/rooms/820073  │ 20190714024644 │\n",
       "│ 2   │ 1868124 │ https://www.airbnb.com/rooms/1868124 │ 20190714024644 │\n",
       "│ 3   │ 1868513 │ https://www.airbnb.com/rooms/1868513 │ 20190714024644 │\n",
       "│ 4   │ 1966195 │ https://www.airbnb.com/rooms/1966195 │ 20190714024644 │\n",
       "│ 5   │ 2187766 │ https://www.airbnb.com/rooms/2187766 │ 20190714024644 │"
      ]
     },
     "execution_count": 5,
     "metadata": {},
     "output_type": "execute_result"
    }
   ],
   "source": [
    "# now, let's read in the output that we saved from this script \n",
    "listings = CSV.read(\"filtered_listings.csv\")\n",
    "L=size(listings,1)\n",
    "println(\"There are $L listings available on $date\")\n",
    "first(listings,5)"
   ]
  },
  {
   "cell_type": "markdown",
   "metadata": {},
   "source": [
    "The file that we have read into Julia contains all the listings that are available for a 3-night stay starting on our specified date. The columns of this DataFrame include all the original AirBnB data, plus a few new columns that we added in the R script. For example, we added new columns to indicate whether each listing has certain amenities."
   ]
  },
  {
   "cell_type": "code",
   "execution_count": 6,
   "metadata": {},
   "outputs": [
    {
     "data": {
      "text/html": [
       "<table class=\"data-frame\"><thead><tr><th></th><th>Kitchen</th><th>Air_conditioning</th></tr><tr><th></th><th>Int64</th><th>Int64</th></tr></thead><tbody><p>61 rows × 2 columns</p><tr><th>1</th><td>1</td><td>1</td></tr><tr><th>2</th><td>1</td><td>1</td></tr><tr><th>3</th><td>1</td><td>1</td></tr><tr><th>4</th><td>1</td><td>1</td></tr><tr><th>5</th><td>1</td><td>1</td></tr><tr><th>6</th><td>1</td><td>1</td></tr><tr><th>7</th><td>1</td><td>1</td></tr><tr><th>8</th><td>1</td><td>1</td></tr><tr><th>9</th><td>1</td><td>1</td></tr><tr><th>10</th><td>1</td><td>1</td></tr><tr><th>11</th><td>1</td><td>1</td></tr><tr><th>12</th><td>1</td><td>1</td></tr><tr><th>13</th><td>1</td><td>1</td></tr><tr><th>14</th><td>1</td><td>1</td></tr><tr><th>15</th><td>1</td><td>1</td></tr><tr><th>16</th><td>1</td><td>1</td></tr><tr><th>17</th><td>1</td><td>1</td></tr><tr><th>18</th><td>1</td><td>1</td></tr><tr><th>19</th><td>1</td><td>1</td></tr><tr><th>20</th><td>1</td><td>0</td></tr><tr><th>21</th><td>1</td><td>1</td></tr><tr><th>22</th><td>1</td><td>1</td></tr><tr><th>23</th><td>1</td><td>0</td></tr><tr><th>24</th><td>1</td><td>1</td></tr><tr><th>25</th><td>1</td><td>1</td></tr><tr><th>26</th><td>1</td><td>1</td></tr><tr><th>27</th><td>1</td><td>1</td></tr><tr><th>28</th><td>1</td><td>1</td></tr><tr><th>29</th><td>1</td><td>1</td></tr><tr><th>30</th><td>1</td><td>1</td></tr><tr><th>&vellip;</th><td>&vellip;</td><td>&vellip;</td></tr></tbody></table>"
      ],
      "text/latex": [
       "\\begin{tabular}{r|cc}\n",
       "\t& Kitchen & Air\\_conditioning\\\\\n",
       "\t\\hline\n",
       "\t& Int64 & Int64\\\\\n",
       "\t\\hline\n",
       "\t1 & 1 & 1 \\\\\n",
       "\t2 & 1 & 1 \\\\\n",
       "\t3 & 1 & 1 \\\\\n",
       "\t4 & 1 & 1 \\\\\n",
       "\t5 & 1 & 1 \\\\\n",
       "\t6 & 1 & 1 \\\\\n",
       "\t7 & 1 & 1 \\\\\n",
       "\t8 & 1 & 1 \\\\\n",
       "\t9 & 1 & 1 \\\\\n",
       "\t10 & 1 & 1 \\\\\n",
       "\t11 & 1 & 1 \\\\\n",
       "\t12 & 1 & 1 \\\\\n",
       "\t13 & 1 & 1 \\\\\n",
       "\t14 & 1 & 1 \\\\\n",
       "\t15 & 1 & 1 \\\\\n",
       "\t16 & 1 & 1 \\\\\n",
       "\t17 & 1 & 1 \\\\\n",
       "\t18 & 1 & 1 \\\\\n",
       "\t19 & 1 & 1 \\\\\n",
       "\t20 & 1 & 0 \\\\\n",
       "\t21 & 1 & 1 \\\\\n",
       "\t22 & 1 & 1 \\\\\n",
       "\t23 & 1 & 0 \\\\\n",
       "\t24 & 1 & 1 \\\\\n",
       "\t25 & 1 & 1 \\\\\n",
       "\t26 & 1 & 1 \\\\\n",
       "\t27 & 1 & 1 \\\\\n",
       "\t28 & 1 & 1 \\\\\n",
       "\t29 & 1 & 1 \\\\\n",
       "\t30 & 1 & 1 \\\\\n",
       "\t$\\dots$ & $\\dots$ & $\\dots$ \\\\\n",
       "\\end{tabular}\n"
      ],
      "text/plain": [
       "61×2 DataFrame\n",
       "│ Row │ Kitchen │ Air_conditioning │\n",
       "│     │ \u001b[90mInt64\u001b[39m   │ \u001b[90mInt64\u001b[39m            │\n",
       "├─────┼─────────┼──────────────────┤\n",
       "│ 1   │ 1       │ 1                │\n",
       "│ 2   │ 1       │ 1                │\n",
       "│ 3   │ 1       │ 1                │\n",
       "│ 4   │ 1       │ 1                │\n",
       "│ 5   │ 1       │ 1                │\n",
       "│ 6   │ 1       │ 1                │\n",
       "│ 7   │ 1       │ 1                │\n",
       "│ 8   │ 1       │ 1                │\n",
       "│ 9   │ 1       │ 1                │\n",
       "│ 10  │ 1       │ 1                │\n",
       "⋮\n",
       "│ 51  │ 0       │ 0                │\n",
       "│ 52  │ 1       │ 1                │\n",
       "│ 53  │ 0       │ 0                │\n",
       "│ 54  │ 0       │ 0                │\n",
       "│ 55  │ 0       │ 1                │\n",
       "│ 56  │ 1       │ 1                │\n",
       "│ 57  │ 1       │ 1                │\n",
       "│ 58  │ 1       │ 1                │\n",
       "│ 59  │ 1       │ 0                │\n",
       "│ 60  │ 0       │ 1                │\n",
       "│ 61  │ 0       │ 1                │"
      ]
     },
     "execution_count": 6,
     "metadata": {},
     "output_type": "execute_result"
    }
   ],
   "source": [
    "# Let's check if our amenity columns have been added\n",
    "amenities = [:Kitchen,:Air_conditioning]\n",
    "listings[!,amenities]"
   ]
  },
  {
   "cell_type": "code",
   "execution_count": 7,
   "metadata": {},
   "outputs": [
    {
     "data": {
      "text/plain": [
       "61-element CSV.Column{Float64,Float64}:\n",
       " 1566.0\n",
       " 1266.0\n",
       " 1335.0\n",
       " 1749.0\n",
       " 1749.0\n",
       " 1335.0\n",
       "  810.0\n",
       "  882.0\n",
       "  975.0\n",
       "  800.0\n",
       " 1749.0\n",
       " 2250.0\n",
       " 1084.0\n",
       "    ⋮  \n",
       "  723.0\n",
       "  615.0\n",
       " 1056.0\n",
       "  675.0\n",
       "  510.0\n",
       " 1197.0\n",
       "  994.0\n",
       "  663.0\n",
       "  750.0\n",
       "  181.0\n",
       "  195.0\n",
       "  225.0"
      ]
     },
     "execution_count": 7,
     "metadata": {},
     "output_type": "execute_result"
    }
   ],
   "source": [
    "# select the column in the listings data that gives the cost on this date\n",
    "cost = listings[!,Symbol(\"stay 1\")]"
   ]
  },
  {
   "cell_type": "markdown",
   "metadata": {},
   "source": [
    "Now let's read in the date we gathered about students' accommodation preferences."
   ]
  },
  {
   "cell_type": "code",
   "execution_count": 8,
   "metadata": {},
   "outputs": [
    {
     "data": {
      "text/html": [
       "<table class=\"data-frame\"><thead><tr><th></th><th>Name</th><th>room_F</th><th>room_M</th><th>room_A</th><th>Air_conditioning</th><th>Kitchen</th><th>Gym</th></tr><tr><th></th><th>String</th><th>Int64</th><th>Int64</th><th>Int64</th><th>Int64</th><th>Int64</th><th>Int64</th></tr></thead><tbody><p>5 rows × 10 columns (omitted printing of 3 columns)</p><tr><th>1</th><td>John Nicholas</td><td>0</td><td>1</td><td>1</td><td>1</td><td>1</td><td>1</td></tr><tr><th>2</th><td>Michael Rudahl</td><td>0</td><td>1</td><td>0</td><td>1</td><td>1</td><td>0</td></tr><tr><th>3</th><td>All A-Sloan</td><td>1</td><td>0</td><td>1</td><td>1</td><td>0</td><td>0</td></tr><tr><th>4</th><td>JM</td><td>1</td><td>0</td><td>0</td><td>1</td><td>1</td><td>0</td></tr><tr><th>5</th><td>Joey Khoury El Aramouni</td><td>0</td><td>0</td><td>1</td><td>1</td><td>0</td><td>0</td></tr></tbody></table>"
      ],
      "text/latex": [
       "\\begin{tabular}{r|cccccccc}\n",
       "\t& Name & room\\_F & room\\_M & room\\_A & Air\\_conditioning & Kitchen & Gym & \\\\\n",
       "\t\\hline\n",
       "\t& String & Int64 & Int64 & Int64 & Int64 & Int64 & Int64 & \\\\\n",
       "\t\\hline\n",
       "\t1 & John Nicholas & 0 & 1 & 1 & 1 & 1 & 1 & $\\dots$ \\\\\n",
       "\t2 & Michael Rudahl & 0 & 1 & 0 & 1 & 1 & 0 & $\\dots$ \\\\\n",
       "\t3 & All A-Sloan & 1 & 0 & 1 & 1 & 0 & 0 & $\\dots$ \\\\\n",
       "\t4 & JM & 1 & 0 & 0 & 1 & 1 & 0 & $\\dots$ \\\\\n",
       "\t5 & Joey Khoury El Aramouni & 0 & 0 & 1 & 1 & 0 & 0 & $\\dots$ \\\\\n",
       "\\end{tabular}\n"
      ],
      "text/plain": [
       "5×10 DataFrame. Omitted printing of 5 columns\n",
       "│ Row │ Name                    │ room_F │ room_M │ room_A │ Air_conditioning │\n",
       "│     │ \u001b[90mString\u001b[39m                  │ \u001b[90mInt64\u001b[39m  │ \u001b[90mInt64\u001b[39m  │ \u001b[90mInt64\u001b[39m  │ \u001b[90mInt64\u001b[39m            │\n",
       "├─────┼─────────────────────────┼────────┼────────┼────────┼──────────────────┤\n",
       "│ 1   │ John Nicholas           │ 0      │ 1      │ 1      │ 1                │\n",
       "│ 2   │ Michael Rudahl          │ 0      │ 1      │ 0      │ 1                │\n",
       "│ 3   │ All A-Sloan             │ 1      │ 0      │ 1      │ 1                │\n",
       "│ 4   │ JM                      │ 1      │ 0      │ 0      │ 1                │\n",
       "│ 5   │ Joey Khoury El Aramouni │ 0      │ 0      │ 1      │ 1                │"
      ]
     },
     "execution_count": 8,
     "metadata": {},
     "output_type": "execute_result"
    }
   ],
   "source": [
    "preferences = CSV.read(\"preferences.csv\")\n",
    "N=size(preferences,1)\n",
    "first(preferences,5)"
   ]
  },
  {
   "cell_type": "markdown",
   "metadata": {},
   "source": [
    "## Model formulaton\n",
    "\n",
    "Now that we have all our data, let's formulate a model to select the cheapest set of listings that we could book to accommodate everyone.\n",
    "* We need to decide which listings to book. We'll need a **binary** variable to represent whether we should book each listing: $$y_j =\\begin{cases} 1 & \\text{if we book listing $j$} \\\\ 0& \\text{if we don't book listing $j$}\\end{cases}$$\n",
    "* We need to decide who will stay in each listing that we book: $$x_{ij} =\\begin{cases} 1 & \\text{if person $i$ stays in listing $j$} \\\\ 0& \\text{if not}\\end{cases}$$\n",
    "* We need a cost function to calculate the total price of our bookings: $$\\sum_{j=1}^L cost_j y_j$$\n",
    "\n",
    "We also need some constraints to make sure our solution is feasible:\n",
    "\n",
    "$ \\sum_{j=1}^{L} x_{ij} = 1 \\text{ for } i=1,\\dots,N$ (each person is assigned to exactly one listing)\n",
    "\n",
    "$ x_{ij} \\leq y_j \\text{ for } i=1,\\dots,N; \\ j=1,\\dots,L $ (can only assign people to listings that we book)\n",
    "\n",
    "$ \\sum_{i=1}^{N} x_{ij} \\leq \\text{accommodates}_j \\text{ for } j=1,\\dots,L$ (we can't assign more people than the listing allows)"
   ]
  },
  {
   "cell_type": "code",
   "execution_count": 10,
   "metadata": {},
   "outputs": [
    {
     "name": "stdout",
     "output_type": "stream",
     "text": [
      "Academic license - for non-commercial use only\n",
      "Academic license - for non-commercial use only\n",
      "Optimize a model with 3905 rows, 3843 columns and 15128 nonzeros\n",
      "Variable types: 0 continuous, 3843 integer (3843 binary)\n",
      "Coefficient statistics:\n",
      "  Matrix range     [1e+00, 1e+00]\n",
      "  Objective range  [2e+02, 3e+03]\n",
      "  Bounds range     [0e+00, 0e+00]\n",
      "  RHS range        [1e+00, 7e+00]\n",
      "Found heuristic solution: objective 36294.000000\n",
      "Presolve removed 248 rows and 0 columns\n",
      "Presolve time: 0.04s\n",
      "Presolved: 3657 rows, 3843 columns, 14636 nonzeros\n",
      "Variable types: 0 continuous, 3843 integer (3843 binary)\n",
      "\n",
      "Root relaxation: objective 6.811613e+02, 3817 iterations, 0.03 seconds\n",
      "\n",
      "    Nodes    |    Current Node    |     Objective Bounds      |     Work\n",
      " Expl Unexpl |  Obj  Depth IntInf | Incumbent    BestBd   Gap | It/Node Time\n",
      "\n",
      "     0     0  681.16129    0 1575 36294.0000  681.16129  98.1%     -    0s\n",
      "H    0     0                    36184.000000  681.16129  98.1%     -    0s\n",
      "H    0     0                    16089.000000  681.16129  95.8%     -    0s\n",
      "     0     0  933.32258    0 1323 16089.0000  933.32258  94.2%     -    0s\n",
      "     0     0 1695.64516    0 1008 16089.0000 1695.64516  89.5%     -    0s\n",
      "     0     0 2221.98952    0  944 16089.0000 2221.98952  86.2%     -    0s\n",
      "H    0     0                    15427.000000 2221.98952  85.6%     -    0s\n",
      "     0     0 2776.13548    0  981 15427.0000 2776.13548  82.0%     -    0s\n",
      "     0     0 3340.64409    0 1028 15427.0000 3340.64409  78.3%     -    1s\n",
      "     0     0 3340.64409    0 1027 15427.0000 3340.64409  78.3%     -    1s\n",
      "     0     0 3340.64409    0 1027 15427.0000 3340.64409  78.3%     -    1s\n",
      "     0     0 3936.25413    0  925 15427.0000 3936.25413  74.5%     -    1s\n",
      "     0     0 3936.41791    0  927 15427.0000 3936.41791  74.5%     -    1s\n",
      "     0     0 3936.53861    0  936 15427.0000 3936.53861  74.5%     -    1s\n",
      "     0     0 4122.65910    0  957 15427.0000 4122.65910  73.3%     -    1s\n",
      "     0     0 4194.91970    0  977 15427.0000 4194.91970  72.8%     -    1s\n",
      "     0     0 4235.52644    0  994 15427.0000 4235.52644  72.5%     -    1s\n",
      "     0     0 4253.78385    0  991 15427.0000 4253.78385  72.4%     -    1s\n",
      "     0     0 4263.25233    0  989 15427.0000 4263.25233  72.4%     -    1s\n",
      "     0     0 4266.77823    0  995 15427.0000 4266.77823  72.3%     -    1s\n",
      "     0     0 4272.66447    0  999 15427.0000 4272.66447  72.3%     -    1s\n",
      "     0     0 4274.87311    0 1000 15427.0000 4274.87311  72.3%     -    1s\n",
      "     0     0 4281.97191    0  993 15427.0000 4281.97191  72.2%     -    1s\n",
      "     0     0 4282.91746    0  993 15427.0000 4282.91746  72.2%     -    1s\n",
      "     0     0 4295.43238    0  999 15427.0000 4295.43238  72.2%     -    1s\n",
      "     0     0 4301.89890    0 1008 15427.0000 4301.89890  72.1%     -    1s\n",
      "     0     0 4302.19402    0 1009 15427.0000 4302.19402  72.1%     -    1s\n",
      "     0     0 4308.67942    0 1011 15427.0000 4308.67942  72.1%     -    1s\n",
      "     0     0 4308.67942    0 1011 15427.0000 4308.67942  72.1%     -    1s\n",
      "H    0     0                    13734.000000 4308.67942  68.6%     -    2s\n",
      "     0     2 4308.67942    0 1011 13734.0000 4308.67942  68.6%     -    2s\n",
      "*   62    54              24    13672.000000 7166.10690  47.6%  67.0    3s\n",
      "*   67    57              25    13600.000000 7166.10690  47.3%  62.7    3s\n",
      "H   90    62                    13377.000000 7166.10690  46.4%  57.8    3s\n",
      "H  117    75                    13032.000000 7268.28793  44.2%  57.3    3s\n",
      "H  119    60                    12420.000000 7268.28793  41.5%  56.5    3s\n",
      "H  181    79                    12342.000000 8018.28793  35.0%  49.6    3s\n",
      "H  466   150                    12292.000000 9101.86989  26.0%  47.5    4s\n",
      "   480   164 11873.8000   24  271 12292.0000 9101.86989  26.0%  48.3    5s\n",
      "  1474   616 11965.3177   30 1011 12292.0000 9977.05941  18.8%  52.2   10s\n",
      "\n",
      "Cutting planes:\n",
      "  Gomory: 27\n",
      "  MIR: 19\n",
      "  Zero half: 6\n",
      "\n",
      "Explored 1483 nodes (94914 simplex iterations) in 11.43 seconds\n",
      "Thread count was 4 (of 4 available processors)\n",
      "\n",
      "Solution count 10: 12292 12342 12420 ... 16089\n",
      "\n",
      "Optimal solution found (tolerance 1.00e-04)\n",
      "Best objective 1.229200000000e+04, best bound 1.229200000000e+04, gap 0.0000%\n"
     ]
    }
   ],
   "source": [
    "# Let's try a simple model to select the cheapest listings that are available for this period\n",
    "m = Model(with_optimizer(Gurobi.Optimizer,TimeLimit=60))\n",
    "\n",
    "# variables\n",
    "# y[j]=1 listing j is booked, and 0 otherwise\n",
    "@variable(m, y[1:L], Bin)\n",
    "# x[i,j]=1 if person i stays in listing j, and 0 otherwise\n",
    "@variable(m, x[1:N, 1:L], Bin)\n",
    "\n",
    "# constraints\n",
    "# everyone has to be assigned exactly one listing\n",
    "@constraint(m, [i=1:N], sum(x[i,:])==1) \n",
    "# we can only put people in a listing if it is booked\n",
    "@constraint(m, [i=1:N, j=1:L], x[i,j]<=y[j]) \n",
    "# maximum occupancy per unit -- we multiply this by y to make the problem easier to solve\n",
    "@constraint(m, [j=1:L], sum(x[:,j])<=listings[j,:accommodates])\n",
    "\n",
    "# objective\n",
    "@objective(m, Min, sum(cost[j]*y[j] for j=1:L))\n",
    "\n",
    "optimize!(m)"
   ]
  },
  {
   "cell_type": "code",
   "execution_count": 11,
   "metadata": {},
   "outputs": [
    {
     "name": "stdout",
     "output_type": "stream",
     "text": [
      "Cost per person: 198.25806451612902\n",
      "Number of listings booked: 19.0\n",
      "Selected listings: [8, 14, 16, 22, 23, 30, 33, 34, 36, 38, 39, 49, 50, 52, 56, 57, 59, 60, 61]\n",
      "Guests per listing: [5, 4, 3, 3, 2, 4, 4, 4, 2, 4, 2, 4, 3, 6, 5, 4, 1, 1, 1]\n"
     ]
    }
   ],
   "source": [
    "# let's look at our solution:\n",
    "println(\"Cost per person: \", JuMP.objective_value(m)/N)\n",
    "println(\"Number of listings booked: \", sum(JuMP.value.(y)))\n",
    "println(\"Selected listings: \", findall(JuMP.value.(y).>0) )\n",
    "println(\"Guests per listing: \", listings[findall(JuMP.value.(y).>0),:accommodates] )"
   ]
  },
  {
   "cell_type": "markdown",
   "metadata": {},
   "source": [
    "Now, let's incorporate some of the other constraints from our preference data.\n",
    "\n",
    "We need new variables to decide whether each listing should be booked for males only, females only, or any gender. For convenience, let's index these variables with the column names in our preferences data.\n",
    "$$ z_{j, k} = \\begin{cases} 1 & \\text{ if listing $j$ is used as room type $k$} \\\\ 0 & \\text{ otherwise}.\\end{cases}$$\n",
    "Next, we need a constraint to ensure that each listing is only used for one of the three categories (i.e., a listing can't be male only and female only at the same time).\n",
    "$$ \\sum_{k \\in \\text{ room types} } z_{jk} \\leq 1 \\text{ for } j=1,\\dots,L$$\n",
    "\n",
    "We also need to ensure that each student is placed in a room type that matches their preferences:\n",
    "$$ x_{ij} \\leq \\sum_{k \\in \\text{ room types} } z_{jk}\\text{preferences}_{ik} \\quad \\text{ for } i=1,\\dots,N; \\ j=1,\\dots,L $$"
   ]
  },
  {
   "cell_type": "code",
   "execution_count": 12,
   "metadata": {},
   "outputs": [
    {
     "name": "stdout",
     "output_type": "stream",
     "text": [
      "Optimize a model with 7748 rows, 4026 columns and 25315 nonzeros\n",
      "Variable types: 0 continuous, 4026 integer (4026 binary)\n",
      "Coefficient statistics:\n",
      "  Matrix range     [1e+00, 1e+00]\n",
      "  Objective range  [2e+02, 3e+03]\n",
      "  Bounds range     [0e+00, 0e+00]\n",
      "  RHS range        [1e+00, 7e+00]\n",
      "\n",
      "MIP start did not produce a new incumbent solution\n",
      "\n",
      "Found heuristic solution: objective 38275.000000\n",
      "Presolve removed 659 rows and 8 columns\n",
      "Presolve time: 0.10s\n",
      "Presolved: 7089 rows, 4018 columns, 21785 nonzeros\n",
      "Variable types: 0 continuous, 4018 integer (4018 binary)\n",
      "\n",
      "Root relaxation: objective 6.811613e+02, 4444 iterations, 0.09 seconds\n",
      "\n",
      "    Nodes    |    Current Node    |     Objective Bounds      |     Work\n",
      " Expl Unexpl |  Obj  Depth IntInf | Incumbent    BestBd   Gap | It/Node Time\n",
      "\n",
      "     0     0  681.16129    0 1650 38275.0000  681.16129  98.2%     -    0s\n",
      "H    0     0                    38261.000000  681.16129  98.2%     -    0s\n",
      "H    0     0                    16869.000000  681.16129  96.0%     -    0s\n",
      "     0     0  910.51613    0 1452 16869.0000  910.51613  94.6%     -    0s\n",
      "H    0     0                    13389.000000  910.51613  93.2%     -    0s\n",
      "     0     0 1611.03226    0 1122 13389.0000 1611.03226  88.0%     -    0s\n",
      "     0     0 1782.32258    0 1063 13389.0000 1782.32258  86.7%     -    1s\n",
      "     0     0 1790.35484    0 1035 13389.0000 1790.35484  86.6%     -    1s\n",
      "     0     0 1790.35484    0 1035 13389.0000 1790.35484  86.6%     -    1s\n",
      "     0     0 1790.35484    0 1033 13389.0000 1790.35484  86.6%     -    1s\n",
      "     0     0 1850.97312    0 1024 13389.0000 1850.97312  86.2%     -    1s\n",
      "     0     0 1850.97312    0 1025 13389.0000 1850.97312  86.2%     -    1s\n",
      "     0     0 1850.97312    0 1023 13389.0000 1850.97312  86.2%     -    1s\n",
      "     0     0 1850.97312    0 1021 13389.0000 1850.97312  86.2%     -    2s\n",
      "     0     0 1850.97312    0 1021 13389.0000 1850.97312  86.2%     -    2s\n",
      "     0     2 1850.97312    0 1021 13389.0000 1850.97312  86.2%     -    3s\n",
      "H   29    26                    13131.000000 4436.86584  66.2%   690    5s\n",
      "H   60    48                    12892.000000 5811.88710  54.9%   491    6s\n",
      "H  288   141                    12528.999981 6745.05376  46.2%   207    9s\n",
      "   320   130     cutoff   70      12529.0000 6939.09164  44.6%   189   10s\n",
      "H  399   160                    12342.000000 7516.95484  39.1%   182   11s\n",
      "   761   313 9650.72581    7 1021 12342.0000 7606.95484  38.4%   151   16s\n",
      "   770   322 10219.0594   15  309 12342.0000 9121.17551  26.1%   161   20s\n",
      "*  776   304              17    12292.000000 11062.6882  10.0%   162   21s\n",
      "\n",
      "Cutting planes:\n",
      "  Gomory: 19\n",
      "  MIR: 4\n",
      "  Zero half: 4\n",
      "\n",
      "Explored 784 nodes (137768 simplex iterations) in 21.44 seconds\n",
      "Thread count was 4 (of 4 available processors)\n",
      "\n",
      "Solution count 9: 12292 12342 12529 ... 38275\n",
      "\n",
      "Optimal solution found (tolerance 1.00e-04)\n",
      "Best objective 1.229200000000e+04, best bound 1.229200000000e+04, gap 0.0000%\n"
     ]
    }
   ],
   "source": [
    "room_types = [:room_A ,:room_F ,:room_M ]\n",
    "@variable(m, z[1:L,room_types], Bin)\n",
    "\n",
    "# each listing can only be used for one of the three room types\n",
    "@constraint(m, [j=1:L], sum(z[j,:]) <= 1)\n",
    "\n",
    "# preferences: x[i,j] can only be 1 if listing j matches the student's preferred room type(s) \n",
    "# i.e., z[j,type] matches student i's gender preferences\n",
    "@constraint(m, [i=1:N,j=1:L], x[i,j] <= sum(preferences[i,k]*z[j,k]  for k in room_types))\n",
    "\n",
    "optimize!(m)\n"
   ]
  },
  {
   "cell_type": "code",
   "execution_count": 13,
   "metadata": {},
   "outputs": [
    {
     "name": "stdout",
     "output_type": "stream",
     "text": [
      "Cost per person: 198.25806451612902\n",
      "Number of listings booked: 19.0\n",
      "Selected listings: [8, 14, 16, 22, 23, 30, 33, 34, 36, 38, 39, 49, 50, 52, 56, 57, 59, 60, 61]\n",
      "Guests per listing: [5, 4, 3, 3, 2, 4, 4, 4, 2, 4, 2, 4, 3, 6, 5, 4, 1, 1, 1]\n"
     ]
    }
   ],
   "source": [
    "# let's look at our solution:\n",
    "println(\"Cost per person: \", JuMP.objective_value(m)/N)\n",
    "println(\"Number of listings booked: \", sum(JuMP.value.(y)))\n",
    "println(\"Selected listings: \", findall(JuMP.value.(y).>0) )\n",
    "println(\"Guests per listing: \", listings[findall(JuMP.value.(y).>0),:accommodates] )"
   ]
  },
  {
   "cell_type": "markdown",
   "metadata": {},
   "source": [
    "Now let's add a constraint for the amenities requested by each student in the preferences data (in these columns, 1 means that the student must be in a listing with this amenity, 0 means they don't mind).\n",
    "How can we express this as an optimization constraint? Ideally we would like something that looks like this:\n",
    "\n",
    "$$x_{ij}\\leq \\text{amenities_match}(i,j),$$\n",
    "\n",
    "where amenities_match(i,j) is a function that returns 1 if listing $j$ has all the amentities requested by student $i$, and zero if it does not. We could write this function using a for loop to check each amenity and if statements to return either 1 or 0."
   ]
  },
  {
   "cell_type": "code",
   "execution_count": 14,
   "metadata": {},
   "outputs": [
    {
     "data": {
      "text/plain": [
       "amenities_match (generic function with 1 method)"
      ]
     },
     "execution_count": 14,
     "metadata": {},
     "output_type": "execute_result"
    }
   ],
   "source": [
    "function amenities_match(i,j)\n",
    "    student_preferences = preferences[i,amenities]\n",
    "    listing_amenities = listings[j,amenities]\n",
    "    for a in amenities\n",
    "        if student_preferences[a]>listing_amenities[a]\n",
    "            # listing lacks the requested feature\n",
    "            return(0)\n",
    "        end\n",
    "    end\n",
    "    #all amenities matched student's preferences\n",
    "    return(1)\n",
    "end"
   ]
  },
  {
   "cell_type": "code",
   "execution_count": 15,
   "metadata": {},
   "outputs": [
    {
     "name": "stdout",
     "output_type": "stream",
     "text": [
      "Academic license - for non-commercial use only\n",
      "Academic license - for non-commercial use only\n",
      "Optimize a model with 11530 rows, 4026 columns and 29158 nonzeros\n",
      "Variable types: 0 continuous, 4026 integer (4026 binary)\n",
      "Coefficient statistics:\n",
      "  Matrix range     [1e+00, 7e+00]\n",
      "  Objective range  [2e+02, 3e+03]\n",
      "  Bounds range     [0e+00, 0e+00]\n",
      "  RHS range        [1e+00, 1e+00]\n",
      "Found heuristic solution: objective 34528.000000\n",
      "Presolve removed 5643 rows and 782 columns\n",
      "Presolve time: 0.13s\n",
      "Presolved: 5887 rows, 3244 columns, 17796 nonzeros\n",
      "Variable types: 0 continuous, 3244 integer (3244 binary)\n",
      "\n",
      "Root relaxation: objective 1.229200e+04, 6018 iterations, 0.38 seconds\n",
      "\n",
      "    Nodes    |    Current Node    |     Objective Bounds      |     Work\n",
      " Expl Unexpl |  Obj  Depth IntInf | Incumbent    BestBd   Gap | It/Node Time\n",
      "\n",
      "*    0     0               0    12292.000000 12292.0000  0.00%     -    0s\n",
      "\n",
      "Explored 0 nodes (7504 simplex iterations) in 0.56 seconds\n",
      "Thread count was 4 (of 4 available processors)\n",
      "\n",
      "Solution count 2: 12292 34528 \n",
      "\n",
      "Optimal solution found (tolerance 1.00e-04)\n",
      "Best objective 1.229200000000e+04, best bound 1.229200000000e+04, gap 0.0000%\n"
     ]
    }
   ],
   "source": [
    "m = Model(with_optimizer(Gurobi.Optimizer,TimeLimit=60))\n",
    "\n",
    "# variables\n",
    "# y[j]=1 listing j is booked, and 0 otherwise\n",
    "@variable(m, y[1:L], Bin)\n",
    "# x[i,j]=1 if person i stays in listing j, and 0 otherwise\n",
    "@variable(m, x[1:N,1:L], Bin)\n",
    "\n",
    "# constraints\n",
    "# everyone has to be assigned exactly one listing\n",
    "@constraint(m,[i=1:N],sum(x[i,:])==1) \n",
    "# we can only put people in a listing if it is booked\n",
    "@constraint(m,[i=1:N,j=1:L],x[i,j]<=y[j]) \n",
    "# maximum occupancy per unit\n",
    "@constraint(m,[j=1:L],sum(x[:,j])<=listings[j,:accommodates]*y[j]) \n",
    "\n",
    "# objective\n",
    "@objective(m, Min, sum( y[j]*cost[j] for j=1:L ))# variables\n",
    "\n",
    "@variable(m, z[1:L,room_types], Bin)\n",
    "\n",
    "# each listing can only be used for one of the three room types\n",
    "@constraint(m, [j=1:L], sum(z[j,:]) <= 1)\n",
    "\n",
    "# preferences: x[i,j] can only be 1 if listing j matches the student's preferred room type(s) \n",
    "# i.e., z[j,type] matches student i's gender preferences\n",
    "@constraint(m, [i=1:N,j=1:L], x[i,j] <= sum(preferences[i,k]*z[j,k]  for k in room_types))\n",
    "\n",
    "# amenity preferences: x[i,j] can only be 1 if listing[j] matches student i's preferences\n",
    "@constraint(m,[i=1:N,j=1:L], x[i,j] <= amenities_match(i,j) )\n",
    "\n",
    "optimize!(m)"
   ]
  },
  {
   "cell_type": "code",
   "execution_count": 16,
   "metadata": {},
   "outputs": [
    {
     "name": "stdout",
     "output_type": "stream",
     "text": [
      "Cost per person: 198.25806451612902\n",
      "Number of listings: 19.0\n",
      "Selected listings: [8, 14, 16, 22, 23, 30, 33, 34, 36, 38, 39, 49, 50, 52, 56, 57, 59, 60, 61]\n",
      "Guests per listing: [5, 4, 3, 3, 2, 4, 4, 4, 2, 4, 2, 4, 3, 6, 5, 4, 1, 1, 1]\n"
     ]
    }
   ],
   "source": [
    "println(\"Cost per person: \",JuMP.objective_value(m)/N)\n",
    "println(\"Number of listings: \",sum(JuMP.value.(y)))\n",
    "println(\"Selected listings: \",findall(JuMP.value.(y).>0) )\n",
    "println(\"Guests per listing: \",listings[findall(JuMP.value.(y).>0),:accommodates] )"
   ]
  },
  {
   "cell_type": "code",
   "execution_count": 17,
   "metadata": {},
   "outputs": [
    {
     "name": "stderr",
     "output_type": "stream",
     "text": [
      "┌ Warning: implicit vector broadcasting in setindex! is deprecated; use `df[:, col_inds] .= Ref(v)` broadcasting assignment to change the columns in place\n",
      "│   caller = top-level scope at In[17]:1\n",
      "└ @ Core In[17]:1\n",
      "┌ Warning: Implicit broadcasting to a new column in DataFrame assignment is deprecated.Use `df[!, col_ind] .= v`  when `df` has some columns\n",
      "│   caller = setindex!(::DataFrame, ::String, ::Colon, ::Symbol) at deprecated.jl:1584\n",
      "└ @ DataFrames /Users/EZ/.julia/packages/DataFrames/XuYBH/src/deprecated.jl:1584\n"
     ]
    },
    {
     "data": {
      "text/plain": [
       "61-element Array{String,1}:\n",
       " \"\"      \n",
       " \"\"      \n",
       " \"\"      \n",
       " \"\"      \n",
       " \"\"      \n",
       " \"\"      \n",
       " \"\"      \n",
       " \"room_F\"\n",
       " \"\"      \n",
       " \"\"      \n",
       " \"\"      \n",
       " \"\"      \n",
       " \"\"      \n",
       " ⋮       \n",
       " \"room_A\"\n",
       " \"\"      \n",
       " \"room_F\"\n",
       " \"\"      \n",
       " \"\"      \n",
       " \"\"      \n",
       " \"room_A\"\n",
       " \"room_A\"\n",
       " \"\"      \n",
       " \"room_A\"\n",
       " \"room_A\"\n",
       " \"room_M\""
      ]
     },
     "execution_count": 17,
     "metadata": {},
     "output_type": "execute_result"
    }
   ],
   "source": [
    "# find out what type of room each listing will be\n",
    "listings[:,:type] = \"\"\n",
    "Z = JuMP.value.(z)\n",
    "\n",
    "for j in findall(JuMP.value.(y).>0)\n",
    "    for t in room_types\n",
    "        if Z[j,t]==1\n",
    "         listings[j,:type] = string(t)\n",
    "        end\n",
    "    end\n",
    "end\n",
    "listings[!,:type]"
   ]
  },
  {
   "cell_type": "code",
   "execution_count": 18,
   "metadata": {},
   "outputs": [
    {
     "data": {
      "text/plain": [
       "62-element Array{String,1}:\n",
       " \"room_M\"\n",
       " \"room_M\"\n",
       " \"room_A\"\n",
       " \"room_F\"\n",
       " \"room_A\"\n",
       " \"room_M\"\n",
       " \"room_A\"\n",
       " \"room_A\"\n",
       " \"room_F\"\n",
       " \"room_A\"\n",
       " \"room_A\"\n",
       " \"room_M\"\n",
       " \"room_A\"\n",
       " ⋮       \n",
       " \"room_A\"\n",
       " \"room_A\"\n",
       " \"room_A\"\n",
       " \"room_A\"\n",
       " \"room_A\"\n",
       " \"room_F\"\n",
       " \"room_A\"\n",
       " \"room_F\"\n",
       " \"room_A\"\n",
       " \"room_A\"\n",
       " \"room_A\"\n",
       " \"room_M\""
      ]
     },
     "execution_count": 18,
     "metadata": {},
     "output_type": "execute_result"
    }
   ],
   "source": [
    "X = JuMP.value.(x)\n",
    "\n",
    "assigned_listing = [ listings[findall(X[i,:].>0)[1],:id] for i=1:N]\n",
    "assigned_type = [ listings[findall(X[i,:].>0)[1],:type] for i=1:N]"
   ]
  },
  {
   "cell_type": "code",
   "execution_count": 19,
   "metadata": {},
   "outputs": [
    {
     "data": {
      "text/html": [
       "<table class=\"data-frame\"><thead><tr><th></th><th>Name</th><th>listing</th><th>type</th></tr><tr><th></th><th>String</th><th>Int64</th><th>String</th></tr></thead><tbody><p>5 rows × 3 columns</p><tr><th>1</th><td>John Nicholas</td><td>14994014</td><td>room_M</td></tr><tr><th>2</th><td>Michael Rudahl</td><td>14994014</td><td>room_M</td></tr><tr><th>3</th><td>All A-Sloan</td><td>23871901</td><td>room_A</td></tr><tr><th>4</th><td>JM</td><td>32831210</td><td>room_F</td></tr><tr><th>5</th><td>Joey Khoury El Aramouni</td><td>21547937</td><td>room_A</td></tr></tbody></table>"
      ],
      "text/latex": [
       "\\begin{tabular}{r|ccc}\n",
       "\t& Name & listing & type\\\\\n",
       "\t\\hline\n",
       "\t& String & Int64 & String\\\\\n",
       "\t\\hline\n",
       "\t1 & John Nicholas & 14994014 & room\\_M \\\\\n",
       "\t2 & Michael Rudahl & 14994014 & room\\_M \\\\\n",
       "\t3 & All A-Sloan & 23871901 & room\\_A \\\\\n",
       "\t4 & JM & 32831210 & room\\_F \\\\\n",
       "\t5 & Joey Khoury El Aramouni & 21547937 & room\\_A \\\\\n",
       "\\end{tabular}\n"
      ],
      "text/plain": [
       "5×3 DataFrame\n",
       "│ Row │ Name                    │ listing  │ type   │\n",
       "│     │ \u001b[90mString\u001b[39m                  │ \u001b[90mInt64\u001b[39m    │ \u001b[90mString\u001b[39m │\n",
       "├─────┼─────────────────────────┼──────────┼────────┤\n",
       "│ 1   │ John Nicholas           │ 14994014 │ room_M │\n",
       "│ 2   │ Michael Rudahl          │ 14994014 │ room_M │\n",
       "│ 3   │ All A-Sloan             │ 23871901 │ room_A │\n",
       "│ 4   │ JM                      │ 32831210 │ room_F │\n",
       "│ 5   │ Joey Khoury El Aramouni │ 21547937 │ room_A │"
      ]
     },
     "execution_count": 19,
     "metadata": {},
     "output_type": "execute_result"
    }
   ],
   "source": [
    "# make a new data frame with each individual's assignment\n",
    "assignments = DataFrame()\n",
    "assignments[!,:Name] = preferences[!,:Name]\n",
    "assignments[!,:listing] = assigned_listing\n",
    "assignments[!,:type] = assigned_type\n",
    "first(assignments,5)"
   ]
  },
  {
   "cell_type": "code",
   "execution_count": 20,
   "metadata": {},
   "outputs": [
    {
     "data": {
      "text/plain": [
       "\"airbnb_solution.csv\""
      ]
     },
     "execution_count": 20,
     "metadata": {},
     "output_type": "execute_result"
    }
   ],
   "source": [
    "# choose a name for the output file\n",
    "filename = \"airbnb_solution\"\n",
    "\n",
    "CSV.write(\"$filename.csv\",assignments)"
   ]
  },
  {
   "cell_type": "markdown",
   "metadata": {},
   "source": [
    "Great! We now have our initial solution, which will be significanlty cheaper than staying in an hotel. \n",
    "The next step is to validate our solution:\n",
    "* each individual student should find their listing and make sure it matches their preferences\n",
    "* each student should check their roommates and make sure that they are in the correct type of room\n",
    "* are there any problems/complaints about the assignments?\n"
   ]
  },
  {
   "cell_type": "markdown",
   "metadata": {},
   "source": [
    "It's generally cheaper for many people to share a listing, so our optimization model seems to be choosing listings that accommodate many people. Unfortunately, some hosts might be a little optimistic about the number of people that their space can hold!\n",
    "Let's do a quick comparison of the number of beds vs. number of guests in our selected listings."
   ]
  },
  {
   "cell_type": "code",
   "execution_count": null,
   "metadata": {},
   "outputs": [],
   "source": [
    "selected_listings = findall(JuMP.value.(y).>0)\n",
    "listings[selected_listings,[:id,:beds,:accommodates]]"
   ]
  },
  {
   "cell_type": "markdown",
   "metadata": {},
   "source": [
    "It looks like most listings are assuming two people per bed. Some even have more than two people per bed --- maybe there is a spare mattress or couch?\n",
    "\n",
    "Let's see what happens if we restrict the number of people assigned to each listing to the number of beds in the listing:"
   ]
  },
  {
   "cell_type": "code",
   "execution_count": null,
   "metadata": {},
   "outputs": [],
   "source": [
    "# maximum occupancy per unit\n",
    "@constraint() \n",
    "optimize!(m)"
   ]
  },
  {
   "cell_type": "code",
   "execution_count": null,
   "metadata": {},
   "outputs": [],
   "source": [
    "println(\"Cost per person: \",JuMP.objective_value(m)/N)\n",
    "println(\"Number of listings: \",sum(JuMP.value.(y)))"
   ]
  },
  {
   "cell_type": "markdown",
   "metadata": {},
   "source": [
    "This solution is significantly more expensive. What should we do?"
   ]
  },
  {
   "cell_type": "markdown",
   "metadata": {},
   "source": [
    "# Exercise\n",
    "\n",
    "Divide into groups to work on an improved version of the AirBnB assignment model. There is no \"right\" solution to this problem, so your goal is to come up with the best model that you can. After working on this, you will have an opportunity to present it to other students and get their feedback.\n",
    "Here are some ideas to get you started:\n",
    "* You can modify the R script to generate different input data for your model (e.g., you could add different neighbourhoods, change the start date of the trip, adjust the rating requirements). If you do this, keep a list of your criteria and the reason for these decisions.\n",
    "* You can ask your classmates for additional data about their preferences. Remember that collecting data is difficult and time-consuming, so you can't just assume that everyone will answer a 10-page questionnaire with detailed questions about their preferences. You need to justify why it's worthwhile to put effort into collecting more data. If you decide to do this, add the corresponding columns in the preferences.csv file and type in some made-up data so that you can run your model (unfortunately we don't have time for everyone to fill out more surveys).\n",
    "* Think about how you would present your solution to your classmates. Maybe you could send them a dashboard that shows the details of their assignment and roommates. Perhaps you could visualize all the selected bookings on a map so that everyone can see where their friends will be located.\n",
    "\n",
    "Outputs\n",
    "* Provide a brief summary of how and why you have modified the assignment model. Describe any assumptions you have made and any additional data that you are using.\n",
    "* Provide a notebook with a full version of your code. Use comments to explain any new constraints or variables that you have added.\n",
    "* Provide a csv file with your best solution and an example of how you would share your solution with other students (plots, dashboards etc.)"
   ]
  },
  {
   "cell_type": "code",
   "execution_count": 50,
   "metadata": {},
   "outputs": [
    {
     "name": "stdout",
     "output_type": "stream",
     "text": [
      "Academic license - for non-commercial use only\n",
      "Academic license - for non-commercial use only\n",
      "Optimize a model with 11531 rows, 4026 columns and 32940 nonzeros\n",
      "Variable types: 0 continuous, 4026 integer (4026 binary)\n",
      "Coefficient statistics:\n",
      "  Matrix range     [1e+00, 7e+00]\n",
      "  Objective range  [2e-01, 5e-01]\n",
      "  Bounds range     [0e+00, 0e+00]\n",
      "  RHS range        [1e+00, 6e+01]\n",
      "Presolve removed 5644 rows and 782 columns\n",
      "Presolve time: 0.10s\n",
      "Presolved: 5887 rows, 3244 columns, 17788 nonzeros\n",
      "Variable types: 0 continuous, 3244 integer (3244 binary)\n",
      "\n",
      "Root relaxation: objective 9.951142e+00, 1146 iterations, 0.04 seconds\n",
      "\n",
      "    Nodes    |    Current Node    |     Objective Bounds      |     Work\n",
      " Expl Unexpl |  Obj  Depth IntInf | Incumbent    BestBd   Gap | It/Node Time\n",
      "\n",
      "     0     0    9.95114    0   12          -    9.95114      -     -    0s\n",
      "     0     0    9.94614    0   11          -    9.94614      -     -    0s\n",
      "H    0     0                       9.9044858    9.94614  0.42%     -    0s\n",
      "     0     0    9.93383    0   19    9.90449    9.93383  0.30%     -    0s\n",
      "     0     0    9.93096    0    8    9.90449    9.93096  0.27%     -    0s\n",
      "     0     0    9.93096    0   12    9.90449    9.93096  0.27%     -    0s\n",
      "     0     0    9.93096    0   15    9.90449    9.93096  0.27%     -    0s\n",
      "     0     0    9.93096    0    9    9.90449    9.93096  0.27%     -    0s\n",
      "*    0     0               0       9.9298671    9.92987  0.00%     -    0s\n",
      "\n",
      "Cutting planes:\n",
      "  Gomory: 3\n",
      "  Zero half: 3\n",
      "\n",
      "Explored 1 nodes (4313 simplex iterations) in 0.44 seconds\n",
      "Thread count was 4 (of 4 available processors)\n",
      "\n",
      "Solution count 3: 9.92987 9.90449 9.90449 \n",
      "\n",
      "Optimal solution found (tolerance 1.00e-04)\n",
      "Best objective 9.929867090660e+00, best bound 9.929867090660e+00, gap 0.0000%\n"
     ]
    }
   ],
   "source": [
    "m = Model(with_optimizer(Gurobi.Optimizer,TimeLimit=60))\n",
    "\n",
    "cost = listings[!,Symbol(\"stay 1\")]\n",
    "rating = listings[!,:review_scores_rating]\n",
    "\n",
    "# variables\n",
    "# y[j]=1 listing j is booked, and 0 otherwise\n",
    "@variable(m, y[1:L], Bin)\n",
    "# x[i,j]=1 if person i stays in listing j, and 0 otherwise\n",
    "@variable(m, x[1:N,1:L], Bin)\n",
    "\n",
    "# constraints\n",
    "# everyone has to be assigned exactly one listing\n",
    "@constraint(m,[i=1:N],sum(x[i,:])==1) \n",
    "# we can only put people in a listing if it is booked\n",
    "@constraint(m,[i=1:N,j=1:L],x[i,j]<=y[j]) \n",
    "# maximum occupancy per unit\n",
    "# @constraint(m,[j=1:L],sum(x[:,j])<=listings[j,:accommodates]*y[j]) \n",
    "\n",
    "@constraint(m, sum(x[:,:]) == N)\n",
    "\n",
    "@constraint(m, [j=1:L], sum(x[:,j]) == listings[j,:accommodates]*y[j])\n",
    "\n",
    "# objective\n",
    "@objective(m, Max, sum( y[j]*(rating[j]/(cost[j] / listings[j,:accommodates])) for j=1:L ))# variables\n",
    "\n",
    "@variable(m, z[1:L,room_types], Bin)\n",
    "\n",
    "# each listing can only be used for one of the three room types\n",
    "@constraint(m, [j=1:L], sum(z[j,:]) <= 1)\n",
    "\n",
    "# preferences: x[i,j] can only be 1 if listing j matches the student's preferred room type(s) \n",
    "# i.e., z[j,type] matches student i's gender preferences\n",
    "@constraint(m, [i=1:N,j=1:L], x[i,j] <= sum(preferences[i,k]*z[j,k]  for k in room_types))\n",
    "\n",
    "# amenity preferences: x[i,j] can only be 1 if listing[j] matches student i's preferences\n",
    "@constraint(m,[i=1:N,j=1:L], x[i,j] <= amenities_match(i,j) )\n",
    "\n",
    "optimize!(m)"
   ]
  },
  {
   "cell_type": "code",
   "execution_count": 59,
   "metadata": {
    "scrolled": false
   },
   "outputs": [
    {
     "name": "stdout",
     "output_type": "stream",
     "text": [
      "Cost per person: 0.16015914662355393\n",
      "Number of listings: 27.0\n",
      "Selected listings: [10, 14, 15, 18, 20, 21, 22, 23, 24, 27, 30, 32, 36, 37, 38, 39, 40, 46, 49, 50, 51, 54, 57, 58, 59, 60, 61]\n",
      "Guests per listing: [2, 4, 2, 2, 2, 2, 3, 2, 2, 2, 4, 2, 2, 2, 4, 2, 2, 2, 4, 3, 2, 1, 4, 2, 1, 1, 1]\n"
     ]
    },
    {
     "data": {
      "text/html": [
       "<table class=\"data-frame\"><thead><tr><th></th><th>id</th><th>name</th><th>accommodates</th><th>longitude</th></tr><tr><th></th><th>Int64</th><th>String</th><th>Int64</th><th>Float64</th></tr></thead><tbody><p>27 rows × 6 columns (omitted printing of 2 columns)</p><tr><th>1</th><td>11201204</td><td>Stylish Back Bay Studio, Steps to Newbury &amp; Hynes</td><td>2</td><td>-71.0876</td></tr><tr><th>2</th><td>14994014</td><td>Downtown!!Stay in a modern apt, walk everywhere!</td><td>4</td><td>-71.0642</td></tr><tr><th>3</th><td>15127120</td><td>Sonder | Winthrop Square | Sleek Studio + Laundry</td><td>2</td><td>-71.0593</td></tr><tr><th>4</th><td>15338096</td><td>Sonder | Winthrop Square | Airy Studio + Laundry</td><td>2</td><td>-71.0598</td></tr><tr><th>5</th><td>15581608</td><td>New Stylish Studio Overlooking Newbury Street!</td><td>2</td><td>-71.0853</td></tr><tr><th>6</th><td>15582062</td><td>Cozy Studio on Enchanting Newbury Street!</td><td>2</td><td>-71.0841</td></tr><tr><th>7</th><td>17573922</td><td>NEW 1st Floor, 1BR Downtown Boston</td><td>3</td><td>-71.0616</td></tr><tr><th>8</th><td>19084632</td><td>Private Room in Back Bay for the Summer!</td><td>2</td><td>-71.0871</td></tr><tr><th>9</th><td>20635474</td><td>(104) Back Bay Studio - Prime Location/ St Botolph</td><td>2</td><td>-71.082</td></tr><tr><th>10</th><td>21240348</td><td>Sonder | Boston Common | Elegant 1BR + Laundry</td><td>2</td><td>-71.0635</td></tr><tr><th>11</th><td>21547937</td><td>Huge Loft in the Heart of Boston | Walk Everywhere</td><td>4</td><td>-71.0731</td></tr><tr><th>12</th><td>22014689</td><td>Sonder | Theater District | Cozy 1BR + Kitchen</td><td>2</td><td>-71.0648</td></tr><tr><th>13</th><td>27111557</td><td>Cozy bedroom in the heart of Backbay in Boston.</td><td>2</td><td>-71.0885</td></tr><tr><th>14</th><td>27554053</td><td>Boston Apartment</td><td>2</td><td>-71.0761</td></tr><tr><th>15</th><td>27584770</td><td>Executive Suits in Downtown Boston Unit 3</td><td>4</td><td>-71.0612</td></tr><tr><th>16</th><td>27733061</td><td>Room in Back Bay Brownstone Penthouse Apartment</td><td>2</td><td>-71.0855</td></tr><tr><th>17</th><td>28492719</td><td>Sonder | Boston Common | Cozy Studio + Laundry</td><td>2</td><td>-71.062</td></tr><tr><th>18</th><td>30955485</td><td>Luxury apt in the heart of Boston</td><td>2</td><td>-71.0605</td></tr><tr><th>19</th><td>32330728</td><td>408 Perfect Location Studio in Downtown Boston!</td><td>4</td><td>-71.0612</td></tr><tr><th>20</th><td>32331200</td><td>606 Simple Studio in the Heart of Boston!</td><td>3</td><td>-71.0612</td></tr><tr><th>21</th><td>32570057</td><td>143-12 Contemporary Flat in Heart of the City!</td><td>2</td><td>-71.0688</td></tr><tr><th>22</th><td>32861086</td><td>1-24 Downtown Oasis Studio in Boston!</td><td>1</td><td>-71.0686</td></tr><tr><th>23</th><td>33136211</td><td>Modern 1-bd  Downtown for families&amp;professionals 4</td><td>4</td><td>-71.0608</td></tr><tr><th>24</th><td>33250560</td><td>(X9) Back Bay- Simple Little Studio</td><td>2</td><td>-71.0765</td></tr><tr><th>25</th><td>33549296</td><td>Chinat.2-Mins-T Asian relaxing area#11唐人街singl bed</td><td>1</td><td>-71.0638</td></tr><tr><th>26</th><td>34091288</td><td>Freedom Trail Bed 2</td><td>1</td><td>-71.0592</td></tr><tr><th>27</th><td>34174789</td><td>Freedom Trail Bed 8</td><td>1</td><td>-71.0606</td></tr></tbody></table>"
      ],
      "text/latex": [
       "\\begin{tabular}{r|ccccc}\n",
       "\t& id & name & accommodates & longitude & \\\\\n",
       "\t\\hline\n",
       "\t& Int64 & String & Int64 & Float64 & \\\\\n",
       "\t\\hline\n",
       "\t1 & 11201204 & Stylish Back Bay Studio, Steps to Newbury \\& Hynes & 2 & -71.0876 & $\\dots$ \\\\\n",
       "\t2 & 14994014 & Downtown!!Stay in a modern apt, walk everywhere! & 4 & -71.0642 & $\\dots$ \\\\\n",
       "\t3 & 15127120 & Sonder | Winthrop Square | Sleek Studio + Laundry & 2 & -71.0593 & $\\dots$ \\\\\n",
       "\t4 & 15338096 & Sonder | Winthrop Square | Airy Studio + Laundry & 2 & -71.0598 & $\\dots$ \\\\\n",
       "\t5 & 15581608 & New Stylish Studio Overlooking Newbury Street! & 2 & -71.0853 & $\\dots$ \\\\\n",
       "\t6 & 15582062 & Cozy Studio on Enchanting Newbury Street! & 2 & -71.0841 & $\\dots$ \\\\\n",
       "\t7 & 17573922 & NEW 1st Floor, 1BR Downtown Boston & 3 & -71.0616 & $\\dots$ \\\\\n",
       "\t8 & 19084632 & Private Room in Back Bay for the Summer! & 2 & -71.0871 & $\\dots$ \\\\\n",
       "\t9 & 20635474 & (104) Back Bay Studio - Prime Location/ St Botolph & 2 & -71.082 & $\\dots$ \\\\\n",
       "\t10 & 21240348 & Sonder | Boston Common | Elegant 1BR + Laundry & 2 & -71.0635 & $\\dots$ \\\\\n",
       "\t11 & 21547937 & Huge Loft in the Heart of Boston | Walk Everywhere & 4 & -71.0731 & $\\dots$ \\\\\n",
       "\t12 & 22014689 & Sonder | Theater District | Cozy 1BR + Kitchen & 2 & -71.0648 & $\\dots$ \\\\\n",
       "\t13 & 27111557 & Cozy bedroom in the heart of Backbay in Boston. & 2 & -71.0885 & $\\dots$ \\\\\n",
       "\t14 & 27554053 & Boston Apartment & 2 & -71.0761 & $\\dots$ \\\\\n",
       "\t15 & 27584770 & Executive Suits in Downtown Boston Unit 3 & 4 & -71.0612 & $\\dots$ \\\\\n",
       "\t16 & 27733061 & Room in Back Bay Brownstone Penthouse Apartment & 2 & -71.0855 & $\\dots$ \\\\\n",
       "\t17 & 28492719 & Sonder | Boston Common | Cozy Studio + Laundry & 2 & -71.062 & $\\dots$ \\\\\n",
       "\t18 & 30955485 & Luxury apt in the heart of Boston & 2 & -71.0605 & $\\dots$ \\\\\n",
       "\t19 & 32330728 & 408 Perfect Location Studio in Downtown Boston! & 4 & -71.0612 & $\\dots$ \\\\\n",
       "\t20 & 32331200 & 606 Simple Studio in the Heart of Boston! & 3 & -71.0612 & $\\dots$ \\\\\n",
       "\t21 & 32570057 & 143-12 Contemporary Flat in Heart of the City! & 2 & -71.0688 & $\\dots$ \\\\\n",
       "\t22 & 32861086 & 1-24 Downtown Oasis Studio in Boston! & 1 & -71.0686 & $\\dots$ \\\\\n",
       "\t23 & 33136211 & Modern 1-bd  Downtown for families\\&professionals 4 & 4 & -71.0608 & $\\dots$ \\\\\n",
       "\t24 & 33250560 & (X9) Back Bay- Simple Little Studio & 2 & -71.0765 & $\\dots$ \\\\\n",
       "\t25 & 33549296 & Chinat.2-Mins-T Asian relaxing area\\#11唐人街singl bed & 1 & -71.0638 & $\\dots$ \\\\\n",
       "\t26 & 34091288 & Freedom Trail Bed 2 & 1 & -71.0592 & $\\dots$ \\\\\n",
       "\t27 & 34174789 & Freedom Trail Bed 8 & 1 & -71.0606 & $\\dots$ \\\\\n",
       "\\end{tabular}\n"
      ],
      "text/plain": [
       "27×6 DataFrame. Omitted printing of 4 columns\n",
       "│ Row │ id       │ name                                                  │\n",
       "│     │ \u001b[90mInt64\u001b[39m    │ \u001b[90mString\u001b[39m                                                │\n",
       "├─────┼──────────┼───────────────────────────────────────────────────────┤\n",
       "│ 1   │ 11201204 │ Stylish Back Bay Studio, Steps to Newbury & Hynes     │\n",
       "│ 2   │ 14994014 │ Downtown!!Stay in a modern apt, walk everywhere!      │\n",
       "│ 3   │ 15127120 │ Sonder | Winthrop Square | Sleek Studio + Laundry     │\n",
       "│ 4   │ 15338096 │ Sonder | Winthrop Square | Airy Studio + Laundry      │\n",
       "│ 5   │ 15581608 │ New Stylish Studio Overlooking Newbury Street!        │\n",
       "│ 6   │ 15582062 │ Cozy Studio on Enchanting Newbury Street!             │\n",
       "│ 7   │ 17573922 │ NEW 1st Floor, 1BR Downtown Boston                    │\n",
       "│ 8   │ 19084632 │ Private Room in Back Bay for the Summer!              │\n",
       "│ 9   │ 20635474 │ (104) Back Bay Studio - Prime Location/ St Botolph    │\n",
       "│ 10  │ 21240348 │ Sonder | Boston Common | Elegant 1BR + Laundry        │\n",
       "⋮\n",
       "│ 17  │ 28492719 │ Sonder | Boston Common | Cozy Studio + Laundry        │\n",
       "│ 18  │ 30955485 │ Luxury apt in the heart of Boston                     │\n",
       "│ 19  │ 32330728 │ 408 Perfect Location Studio in Downtown Boston!       │\n",
       "│ 20  │ 32331200 │ 606 Simple Studio in the Heart of Boston!             │\n",
       "│ 21  │ 32570057 │ 143-12 Contemporary Flat in Heart of the City!        │\n",
       "│ 22  │ 32861086 │ 1-24 Downtown Oasis Studio in Boston!                 │\n",
       "│ 23  │ 33136211 │ Modern 1-bd  Downtown for families&professionals 4    │\n",
       "│ 24  │ 33250560 │ (X9) Back Bay- Simple Little Studio                   │\n",
       "│ 25  │ 33549296 │ Chinat.2-Mins-T Asian relaxing area#11唐人街singl bed │\n",
       "│ 26  │ 34091288 │ Freedom Trail Bed 2                                   │\n",
       "│ 27  │ 34174789 │ Freedom Trail Bed 8                                   │"
      ]
     },
     "execution_count": 59,
     "metadata": {},
     "output_type": "execute_result"
    }
   ],
   "source": [
    "println(\"Cost per person: \",JuMP.objective_value(m)/N)\n",
    "println(\"Number of listings: \",sum(JuMP.value.(y)))\n",
    "println(\"Selected listings: \",findall(JuMP.value.(y).>0) )\n",
    "println(\"Guests per listing: \",listings[findall(JuMP.value.(y).>0),:accommodates] )\n",
    "\n",
    "out = listings[findall(JuMP.value.(y).>0),[:id, :name, :accommodates, :longitude, :latitude, :neighbourhood]]"
   ]
  },
  {
   "cell_type": "code",
   "execution_count": 46,
   "metadata": {},
   "outputs": [
    {
     "data": {
      "text/plain": [
       "INFEASIBLE_OR_UNBOUNDED::TerminationStatusCode = 6"
      ]
     },
     "execution_count": 46,
     "metadata": {},
     "output_type": "execute_result"
    }
   ],
   "source": [
    "termination_status(m)"
   ]
  },
  {
   "cell_type": "code",
   "execution_count": 60,
   "metadata": {},
   "outputs": [
    {
     "data": {
      "text/plain": [
       "\"coordinates of top ratios.csv\""
      ]
     },
     "execution_count": 60,
     "metadata": {},
     "output_type": "execute_result"
    }
   ],
   "source": [
    "filename = \"coordinates of top ratios\"\n",
    "\n",
    "CSV.write(\"$filename.csv\",out)"
   ]
  },
  {
   "cell_type": "code",
   "execution_count": null,
   "metadata": {},
   "outputs": [],
   "source": []
  }
 ],
 "metadata": {
  "kernelspec": {
   "display_name": "Julia 1.2.0",
   "language": "julia",
   "name": "julia-1.2"
  },
  "language_info": {
   "file_extension": ".jl",
   "mimetype": "application/julia",
   "name": "julia",
   "version": "1.2.0"
  }
 },
 "nbformat": 4,
 "nbformat_minor": 2
}
